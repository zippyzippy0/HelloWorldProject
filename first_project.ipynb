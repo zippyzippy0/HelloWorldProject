{
 "cells": [
  {
   "cell_type": "code",
   "execution_count": 12,
   "id": "439fef4c-3ba4-44fe-91e1-35ddf4a08f58",
   "metadata": {},
   "outputs": [
    {
     "name": "stdout",
     "output_type": "stream",
     "text": [
      "It's a hot day\n",
      "Drink plenty of water\n",
      "Enjoy your day\n"
     ]
    }
   ],
   "source": [
    "is_hot = True\n",
    "is_cold = False\n",
    "if is_hot :\n",
    "    print(\"It's a hot day\")\n",
    "    print(\"Drink plenty of water\")\n",
    "\n",
    "elif is_cold:\n",
    "    print(\"It's a cold day\")\n",
    "    print(\"Wear  warm clothes\")\n",
    "    \n",
    "else:\n",
    "    print(\"It's a lovely day\")\n",
    "    \n",
    "print (\"Enjoy your day\")"
   ]
  },
  {
   "cell_type": "code",
   "execution_count": 16,
   "id": "2284deb1-a68a-4720-8a52-d4e95bd0cd66",
   "metadata": {},
   "outputs": [
    {
     "name": "stdout",
     "output_type": "stream",
     "text": [
      "Down payment: $ 1000000.0\n"
     ]
    }
   ],
   "source": [
    " price = 10000000\n",
    "has_good_credit = True\n",
    "\n",
    "if has_good_credit:\n",
    "    down_payment = 0.1*price\n",
    "\n",
    "else:\n",
    "    down_payment = 0.2*price\n",
    "\n",
    "print(f\"Down payment: $ {down_payment}\")"
   ]
  },
  {
   "cell_type": "code",
   "execution_count": 18,
   "id": "1e0d2628-cc34-46e9-aad2-134ccd059d4e",
   "metadata": {},
   "outputs": [
    {
     "name": "stdout",
     "output_type": "stream",
     "text": [
      "Eligible for  loan\n"
     ]
    }
   ],
   "source": [
    "has_high_income = True\n",
    "has_good_credit = False\n",
    "\n",
    "if has_high_income or has_good_credit:\n",
    "    print(\"Eligible for  loan\")"
   ]
  },
  {
   "cell_type": "code",
   "execution_count": 21,
   "id": "01335795-d9d8-4928-92e0-5a73af8b2dff",
   "metadata": {},
   "outputs": [
    {
     "name": "stdout",
     "output_type": "stream",
     "text": [
      "It's a hot day\n"
     ]
    }
   ],
   "source": [
    "temperature = 35\n",
    "if temperature != 30:\n",
    "    print(\"It's a hot day\")\n",
    "\n",
    "else:\n",
    "    print(\"It's not a hot day\")"
   ]
  },
  {
   "cell_type": "code",
   "execution_count": 29,
   "id": "2ae1b2ba-8346-48c2-a3a4-5db0d648d6cd",
   "metadata": {},
   "outputs": [
    {
     "name": "stdout",
     "output_type": "stream",
     "text": [
      "name looks good\n"
     ]
    }
   ],
   "source": [
    "name = \"Zipporah Kavutha Mutua\"\n",
    "if len(name) < 3:\n",
    "    print(\"name must be at least 3 characters\")\n",
    "\n",
    "elif len(name) > 50:\n",
    "    print(\"name must be a maximum of 50 characters\")\n",
    "\n",
    "else:\n",
    "    print(\"name looks good\")"
   ]
  },
  {
   "cell_type": "code",
   "execution_count": 32,
   "id": "e35cdd94-26df-42c9-9df4-79008ed67ca9",
   "metadata": {},
   "outputs": [
    {
     "name": "stdin",
     "output_type": "stream",
     "text": [
      "Weight:  160\n",
      "(L)bs or (K)g:  l\n"
     ]
    },
    {
     "name": "stdout",
     "output_type": "stream",
     "text": [
      "You are 72.0 kilos\n"
     ]
    }
   ],
   "source": [
    "weight = int(input(\"Weight: \"))\n",
    "unit = input(\"(L)bs or (K)g: \")\n",
    "if unit.upper() == \"L\":\n",
    "    weight = weight*0.45\n",
    "    print(f\"You are {weight} kilos\")\n",
    "\n",
    "else:\n",
    "    weight = weight/0.45\n",
    "    print(f\"You are {weight} pounds\")\n"
   ]
  },
  {
   "cell_type": "code",
   "execution_count": 34,
   "id": "833821ac-15e1-4e71-a2f1-69603b0d70a3",
   "metadata": {},
   "outputs": [
    {
     "name": "stdout",
     "output_type": "stream",
     "text": [
      "1\n",
      "2\n",
      "3\n",
      "4\n",
      "5\n",
      "Done\n"
     ]
    }
   ],
   "source": [
    "i = 1\n",
    "while i <= 5:\n",
    "    print(i)\n",
    "    i += 1\n",
    "    \n",
    "print(\"Done\")"
   ]
  },
  {
   "cell_type": "code",
   "execution_count": 49,
   "id": "9a2b9a0b-5736-40e8-bfa6-cb197c37f17d",
   "metadata": {},
   "outputs": [
    {
     "name": "stdin",
     "output_type": "stream",
     "text": [
      "Guess:  5\n"
     ]
    },
    {
     "name": "stdout",
     "output_type": "stream",
     "text": [
      "You won\n",
      "    Game Done!\n"
     ]
    }
   ],
   "source": [
    "secret_number = 5\n",
    "guess_count = 0\n",
    "guess_limit = 3\n",
    "\n",
    "while guess_count < guess_limit:\n",
    "    guess = int(input(\"Guess: \"))\n",
    "    guess_count  += 1\n",
    "    if guess == secret_number:\n",
    "        print(\"You won\")\n",
    "        break\n",
    "else:\n",
    "    print(\"You failed\")\n",
    "\n",
    "print(\"    Game Done!\")\n"
   ]
  },
  {
   "cell_type": "code",
   "execution_count": 15,
   "id": "9a0c3efd-ef57-451e-be9c-bfa4c6353935",
   "metadata": {},
   "outputs": [
    {
     "name": "stdin",
     "output_type": "stream",
     "text": [
      "> stop\n"
     ]
    },
    {
     "name": "stdout",
     "output_type": "stream",
     "text": [
      "The car has already stopped\n"
     ]
    },
    {
     "name": "stdin",
     "output_type": "stream",
     "text": [
      "> start\n"
     ]
    },
    {
     "name": "stdout",
     "output_type": "stream",
     "text": [
      "Car started...\n"
     ]
    },
    {
     "name": "stdin",
     "output_type": "stream",
     "text": [
      "> start\n"
     ]
    },
    {
     "name": "stdout",
     "output_type": "stream",
     "text": [
      "Car has already started...\n"
     ]
    },
    {
     "name": "stdin",
     "output_type": "stream",
     "text": [
      "> stop\n"
     ]
    },
    {
     "name": "stdout",
     "output_type": "stream",
     "text": [
      "Car stopped\n"
     ]
    },
    {
     "name": "stdin",
     "output_type": "stream",
     "text": [
      "> stop\n"
     ]
    },
    {
     "name": "stdout",
     "output_type": "stream",
     "text": [
      "The car has already stopped\n"
     ]
    },
    {
     "name": "stdin",
     "output_type": "stream",
     "text": [
      "> quit\n"
     ]
    }
   ],
   "source": [
    "command  = \"\"\n",
    "started = False\n",
    "while True:\n",
    "    command = input(\">\").lower()\n",
    "    if command == \"start\":\n",
    "        if started:\n",
    "           print(\"Car has already started...\")\n",
    "        else:\n",
    "            started = True\n",
    "            print(\"Car started...\")\n",
    "            \n",
    "    elif command == \"stop\":\n",
    "        if not started:\n",
    "            print(\"The car has already stopped\")\n",
    "        else:\n",
    "            started = False\n",
    "            print(\"Car stopped\")\n",
    "    elif command == \"help\":\n",
    "        print(\"\"\"\n",
    "start - to start the car\n",
    "stop - to stop the car\n",
    "quit- to quit\n",
    "        \"\"\")\n",
    "    elif command == \"quit\":\n",
    "        break\n",
    "\n",
    "    else:\n",
    "        print(\"Sorry I don't understand the command\")\n",
    "\n"
   ]
  },
  {
   "cell_type": "code",
   "execution_count": 28,
   "id": "b64381fc-1096-402c-89c3-65c836eab711",
   "metadata": {},
   "outputs": [
    {
     "name": "stdout",
     "output_type": "stream",
     "text": [
      "price: 10\n",
      "price: 20\n",
      "price: 30\n",
      "total=  60\n"
     ]
    }
   ],
   "source": [
    "prices = [10,20,30]\n",
    "total = 0\n",
    "for price in prices:\n",
    "    print(f\"price: {price}\")\n",
    "    total += price\n",
    "print( f\"total=  {total}\")"
   ]
  },
  {
   "cell_type": "code",
   "execution_count": 36,
   "id": "aa38045c-a530-4cdd-a276-5e82d959b3ca",
   "metadata": {},
   "outputs": [
    {
     "name": "stdout",
     "output_type": "stream",
     "text": [
      "(0, 0 , 0)\n",
      "(0, 0 , 1)\n",
      "(1, 0 , 0)\n",
      "(1, 0 , 1)\n"
     ]
    }
   ],
   "source": [
    "for x in range(2):\n",
    "    for y in range (1):\n",
    "        for z in range (2):\n",
    "             print(f\"({x}, {y} , {z})\")"
   ]
  },
  {
   "cell_type": "code",
   "execution_count": 49,
   "id": "1f0367b9-80bc-4e82-a501-f8c005ef82e2",
   "metadata": {},
   "outputs": [
    {
     "name": "stdout",
     "output_type": "stream",
     "text": [
      "LLLLL\n",
      "LL\n",
      "LLLLL\n",
      "LL\n",
      "LL\n"
     ]
    }
   ],
   "source": [
    "numbers = [5, 2, 5, 2, 2]\n",
    "for L_count  in numbers:\n",
    "    output = \"\"\n",
    "    for count in range(L_count):\n",
    "        output += \"L\"\n",
    "    print(output)\n",
    "    "
   ]
  },
  {
   "cell_type": "code",
   "execution_count": 60,
   "id": "95daff8d-dd95-4f69-ad37-9e9b6c0779ab",
   "metadata": {},
   "outputs": [
    {
     "name": "stdout",
     "output_type": "stream",
     "text": [
      "0\n"
     ]
    }
   ],
   "source": [
    "numbers = [1, 2,3,56,89,2,3,15,0,667,23,23,2,1]\n",
    "max = numbers[7]\n",
    "for number in numbers:\n",
    "    if number < max:\n",
    "        max=number\n",
    "\n",
    "print(max)"
   ]
  },
  {
   "cell_type": "code",
   "execution_count": 72,
   "id": "29b8fddc-ea58-4717-a6a2-c4ae16e5b32e",
   "metadata": {},
   "outputs": [
    {
     "name": "stdout",
     "output_type": "stream",
     "text": [
      "1\n",
      "2\n",
      "3\n",
      "4\n",
      "5\n",
      "6\n",
      "7\n",
      "8\n",
      "9\n"
     ]
    }
   ],
   "source": [
    "\n",
    "matrix = [\n",
    "    [1, 2, 3],\n",
    "    [4, 5, 6],\n",
    "    [7, 8, 9]\n",
    "]\n",
    "for column in matrix:\n",
    "    for item in column:\n",
    "        print(item)\n",
    "\n"
   ]
  },
  {
   "cell_type": "code",
   "execution_count": 109,
   "id": "1fc4febf-6d9b-4a46-a690-a867715b019d",
   "metadata": {},
   "outputs": [
    {
     "name": "stdout",
     "output_type": "stream",
     "text": [
      "[3, 4, 8, 7, 9, 5, 48]\n"
     ]
    }
   ],
   "source": [
    "numbers = [3,4,8,3,4,7,9,5,4,7,3,48,5]\n",
    "uniques = []\n",
    "for number in numbers:\n",
    "    if number not in uniques:\n",
    "        uniques.append(number) \n",
    "        \n",
    "print(uniques)\n",
    "\n"
   ]
  },
  {
   "cell_type": "code",
   "execution_count": 114,
   "id": "57b18107-a2b5-422b-bc51-eaf9d8ea2932",
   "metadata": {},
   "outputs": [
    {
     "name": "stdout",
     "output_type": "stream",
     "text": [
      "2\n"
     ]
    }
   ],
   "source": [
    "coordinates = (1,2,3)\n",
    "x, y, z = coordinates\n",
    "print(y)\n"
   ]
  },
  {
   "cell_type": "code",
   "execution_count": 150,
   "id": "b49fdd00-38a8-4800-a4a9-00998ca89dc7",
   "metadata": {},
   "outputs": [
    {
     "name": "stdin",
     "output_type": "stream",
     "text": [
      "phone:  12345\n"
     ]
    },
    {
     "name": "stdout",
     "output_type": "stream",
     "text": [
      " Zero Three Six Eight One Two Three Four Five \n"
     ]
    }
   ],
   "source": [
    "phone = input(\"phone: \")\n",
    "digits_mapping = {\"0\": \"Zero\",\n",
    "                  \"1\": \"One\", \n",
    "                  \"2\": \"Two\",\n",
    "                  \"3\": \"Three\", \n",
    "                  \"4\": \"Four\", \n",
    "                  \"5\": \"Five\", \n",
    "                  \"6\": \"Six\", \n",
    "                  \"7\": \"Seven\",\n",
    "                  \"8\": \"Eight\", \n",
    "                  \"9\": \"Nine\"}\n",
    "output = \" \"\n",
    "for character in phone:\n",
    "    output += digits_mapping.get(character,  \"!\") + \" \"\n",
    "\n",
    "print(output)"
   ]
  },
  {
   "cell_type": "code",
   "execution_count": 190,
   "id": "9c5f98e1-281e-48d1-a3b4-125211ad4cc4",
   "metadata": {},
   "outputs": [
    {
     "name": "stdin",
     "output_type": "stream",
     "text": [
      "> good morning sunshine :)\n"
     ]
    },
    {
     "name": "stdout",
     "output_type": "stream",
     "text": [
      "good morning sunshine 😆 \n"
     ]
    }
   ],
   "source": [
    "message = input(\">\")\n",
    "words = message.split(' ')\n",
    "emojis = {\n",
    "\":)\": \"😆\",\n",
    "\":(\": \"😔\"\n",
    "    \n",
    "}\n",
    "output = \"\"\n",
    "for word in words:\n",
    "    output += emojis.get(word, word) + \" \"\n",
    "    \n",
    "print(output)"
   ]
  },
  {
   "cell_type": "code",
   "execution_count": 186,
   "id": "c7c9f6d8-144e-455a-ad61-108bb4865a90",
   "metadata": {},
   "outputs": [
    {
     "name": "stdout",
     "output_type": "stream",
     "text": [
      "9\n"
     ]
    }
   ],
   "source": [
    "def square(number):\n",
    "    return number*number\n",
    "\n",
    "result = square(3)\n",
    "print(result)\n"
   ]
  },
  {
   "cell_type": "code",
   "execution_count": 194,
   "id": "b85e815f-6769-4ef3-b648-815439c3be1b",
   "metadata": {},
   "outputs": [
    {
     "name": "stdin",
     "output_type": "stream",
     "text": [
      "> good morning sunshine :)\n"
     ]
    },
    {
     "name": "stdout",
     "output_type": "stream",
     "text": [
      "good morning sunshine 😆 \n"
     ]
    }
   ],
   "source": [
    "def emoji_converter(message):\n",
    "    words = message.split(' ')\n",
    "    emojis = {\n",
    "    \":)\": \"😆\",\n",
    "    \":(\": \"😔\"\n",
    "        \n",
    "    }\n",
    "    output = \"\"\n",
    "    for word in words:\n",
    "        output += emojis.get(word, word) + \" \"\n",
    "    return output\n",
    "\n",
    "\n",
    "message =  input(\">\")\n",
    "print(emoji_converter(message))\n"
   ]
  },
  {
   "cell_type": "code",
   "execution_count": 201,
   "id": "1a9b09f9-c8b4-48fd-87ed-2bb9339156e6",
   "metadata": {},
   "outputs": [
    {
     "name": "stdin",
     "output_type": "stream",
     "text": [
      "Age:  0\n"
     ]
    },
    {
     "name": "stdout",
     "output_type": "stream",
     "text": [
      "division by zero\n"
     ]
    }
   ],
   "source": [
    "try:\n",
    "    age = int(input(\"Age: \"))\n",
    "    income = 2000\n",
    "    risk = income/age\n",
    "    print(age)\n",
    "except ZeroDivisionError:\n",
    "    print(\"division by zero\")\n",
    "except ValueError:\n",
    "    print(\"Invalid value\")"
   ]
  },
  {
   "cell_type": "code",
   "execution_count": 201,
   "id": "09250587-1303-4e39-bc6d-a64ddc9b89d4",
   "metadata": {},
   "outputs": [
    {
     "name": "stdin",
     "output_type": "stream",
     "text": [
      "Age:  0\n"
     ]
    },
    {
     "name": "stdout",
     "output_type": "stream",
     "text": [
      "division by zero\n"
     ]
    }
   ],
   "source": [
    "try:\n",
    "    age = int(input(\"Age: \"))\n",
    "    income = 2000\n",
    "    risk = income/age\n",
    "    print(age)\n",
    "except ZeroDivisionError:\n",
    "    print(\"division by zero\")\n",
    "except ValueError:\n",
    "    print(\"Invalid value\")"
   ]
  },
  {
   "cell_type": "code",
   "execution_count": 2,
   "id": "7a55acfa-b2bd-428a-b061-0e2500d79d65",
   "metadata": {},
   "outputs": [
    {
     "name": "stdout",
     "output_type": "stream",
     "text": [
      "20\n",
      "draw\n",
      "3\n",
      "move\n"
     ]
    }
   ],
   "source": [
    "class Point:\n",
    "    def move(self):\n",
    "        print(\"move\")\n",
    "\n",
    "    def draw(self):\n",
    "        print(\"draw\")\n",
    "\n",
    "point1  = Point()\n",
    "point1.x = 10\n",
    "point1.y = 20\n",
    "print(point1.y)\n",
    "point1.draw()\n",
    "\n",
    "point2 = Point()\n",
    "point2.x = 3\n",
    "point2.y = 5\n",
    "print(point2.x)\n",
    "point2.move()"
   ]
  },
  {
   "cell_type": "code",
   "execution_count": 8,
   "id": "b4d3915e-8933-492d-b593-42a25d0e021b",
   "metadata": {},
   "outputs": [
    {
     "name": "stdout",
     "output_type": "stream",
     "text": [
      "17\n"
     ]
    }
   ],
   "source": [
    "class Point:\n",
    "    def __init__(self, x, y):\n",
    "        self.x = x\n",
    "        self.y = y\n",
    "\n",
    "    def move(self):\n",
    "        print(\"move\")\n",
    "\n",
    "    def draw(self):\n",
    "        print(\"draw\")\n",
    "\n",
    "point1  = Point(10,20)\n",
    "point1.x = 17\n",
    "print(point1.x)"
   ]
  },
  {
   "cell_type": "code",
   "execution_count": 14,
   "id": "b66c40fa-f9cf-43c0-b579-8e6846651ace",
   "metadata": {},
   "outputs": [
    {
     "name": "stdout",
     "output_type": "stream",
     "text": [
      "Hi, I am Zippy Mutua\n",
      "Hi, I am Bob Smith\n"
     ]
    }
   ],
   "source": [
    "class Person:\n",
    "    def __init__(self, name):\n",
    "        self.name = name\n",
    "    def talk(self):\n",
    "        print(f\"Hi, I am {self.name}\")\n",
    "name = Person(\"Zippy Mutua\")\n",
    "name.talk()\n",
    "\n",
    "bob = Person(\"Bob Smith\")\n",
    "bob.talk()"
   ]
  },
  {
   "cell_type": "code",
   "execution_count": 3,
   "id": "7dad73da-ba1d-4e48-a454-2e2d79d94899",
   "metadata": {},
   "outputs": [
    {
     "name": "stdout",
     "output_type": "stream",
     "text": [
      "bark\n",
      "annoying\n"
     ]
    }
   ],
   "source": [
    "class Mammal:\n",
    "    def walk(self):\n",
    "        print(\"walk\")\n",
    "\n",
    "\n",
    "class Dog(Mammal):\n",
    "    def bark(self):\n",
    "        print(\"bark\")\n",
    "\n",
    "class Cat(Mammal):\n",
    "    def be_annoying(self):\n",
    "        print(\"annoying\")\n",
    "        \n",
    "\n",
    "\n",
    "\n",
    "\n",
    "\n",
    "dog1 = Dog()\n",
    "dog1.bark()\n",
    "\n",
    "cat1 = Cat()\n",
    "cat1.be_annoying()"
   ]
  },
  {
   "cell_type": "code",
   "execution_count": 11,
   "id": "dd4c5f18-9df8-4f81-9213-3c513f4c7c05",
   "metadata": {},
   "outputs": [
    {
     "name": "stdout",
     "output_type": "stream",
     "text": [
      "667\n"
     ]
    }
   ],
   "source": [
    "from utils import find_max\n",
    "\n",
    "numbers = [1, 2,3,56,89,2,3,15,0,667,23,23,2,1]\n",
    "maximum = find_max(numbers)\n",
    "print(maximum)"
   ]
  },
  {
   "cell_type": "code",
   "execution_count": 8,
   "id": "329b348d-eabc-4b7b-a6df-77635f34844a",
   "metadata": {},
   "outputs": [
    {
     "name": "stdout",
     "output_type": "stream",
     "text": [
      "int-rview\n"
     ]
    }
   ],
   "source": [
    "word = 'interview'\n",
    "new_word = word.replace('e','-',1)\n",
    "print(new_word)"
   ]
  },
  {
   "cell_type": "code",
   "execution_count": 9,
   "id": "5a06763d-bafa-472a-84d5-131dcecf1386",
   "metadata": {},
   "outputs": [
    {
     "name": "stdout",
     "output_type": "stream",
     "text": [
      ".ipynb_checkpoints\n",
      "converters.ipynb\n",
      "converters.py\n",
      "ecommerce\n",
      "firstp.py\n",
      "first_project.ipynb\n",
      "utils.ipynb\n",
      "utils.py\n",
      "__pycache__\n"
     ]
    }
   ],
   "source": [
    "from pathlib import Path \n",
    "  \n",
    "path = Path() \n",
    "for file in path.glob('*'):\n",
    "      print(file)"
   ]
  },
  {
   "cell_type": "code",
   "execution_count": 10,
   "id": "b0045698-7e99-4afe-abb5-25e86407e31f",
   "metadata": {},
   "outputs": [
    {
     "name": "stdout",
     "output_type": "stream",
     "text": [
      "calC_shipping\n",
      "calC_shipping\n",
      "Zippy\n",
      "(5, 6)\n"
     ]
    }
   ],
   "source": [
    "\n",
    "from ecommerce import shipping\n",
    "\n",
    "shipping.calc_shipping()\n",
    "shipping.calc_shipping()\n",
    "\n",
    "import random\n",
    "\n",
    "members = [\"Mary\", \"Zippy\", \"Anliy\", \"Emma\", \"Rear\"]\n",
    "leader = random.choice(members)\n",
    "print(leader)\n",
    "\n",
    "import random\n",
    "\n",
    "class Dice:\n",
    "    def roll(self):\n",
    "        guess1 =random.randint(1,6)\n",
    "        guess2 =random.randint(1,6)\n",
    "        return guess1, guess2\n",
    "\n",
    "\n",
    "dice = Dice()    \n",
    "print(dice.roll())  "
   ]
  },
  {
   "cell_type": "code",
   "execution_count": 31,
   "id": "6604bcfc-4222-4428-906c-b08caf9c4c67",
   "metadata": {},
   "outputs": [],
   "source": [
    "import openpyxl as xl\n",
    "from openpyxl.chart import BarChart, Reference\n",
    "\n",
    "\n",
    "def process_workbook(filename):\n",
    "    wb = xl.load_workbook(\"filename\")\n",
    "    sheet = wb['Sheet1']\n",
    "    \n",
    "    \n",
    "    for row in range(2, sheet.max_row + 1):\n",
    "                    cell = sheet.cell(row, 3)\n",
    "                    corrected_price = cell.value*0.9\n",
    "                    corrected_price_cell = sheet.cell(row, 4)\n",
    "                    corrected_price_cell.value = corrected_price \n",
    "    \n",
    "    values=Reference(sheet,\n",
    "              min_row=2, \n",
    "              max_row = sheet.max_row,\n",
    "              min_col = 4,\n",
    "              max_col = 4)\n",
    "    \n",
    "    chart = BarChart()\n",
    "    chart.add_data(values)\n",
    "    sheet.add_chart(chart, 'e2')\n",
    "\n",
    "    wb.save(\"filename\")"
   ]
  },
  {
   "cell_type": "code",
   "execution_count": null,
   "id": "04b51c4f-201c-4e22-8446-50d18154a3a5",
   "metadata": {},
   "outputs": [],
   "source": []
  }
 ],
 "metadata": {
  "kernelspec": {
   "display_name": "Python 3 (ipykernel)",
   "language": "python",
   "name": "python3"
  },
  "language_info": {
   "codemirror_mode": {
    "name": "ipython",
    "version": 3
   },
   "file_extension": ".py",
   "mimetype": "text/x-python",
   "name": "python",
   "nbconvert_exporter": "python",
   "pygments_lexer": "ipython3",
   "version": "3.12.4"
  }
 },
 "nbformat": 4,
 "nbformat_minor": 5
}
