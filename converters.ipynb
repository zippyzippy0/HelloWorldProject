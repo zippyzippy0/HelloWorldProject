{
 "cells": [
  {
   "cell_type": "code",
   "execution_count": 3,
   "id": "6f867638-5146-4294-bd1f-caded2615a03",
   "metadata": {},
   "outputs": [],
   "source": [
    "def kg_to_lbs(weight):\n",
    "        return weight/0.45\n",
    "\n",
    "def lbs_to_kg(weight):\n",
    "        return weight*0.45"
   ]
  },
  {
   "cell_type": "code",
   "execution_count": null,
   "id": "ef8d0a30-3c10-4995-a16d-074245b2fee2",
   "metadata": {},
   "outputs": [],
   "source": []
  }
 ],
 "metadata": {
  "kernelspec": {
   "display_name": "Python 3 (ipykernel)",
   "language": "python",
   "name": "python3"
  },
  "language_info": {
   "codemirror_mode": {
    "name": "ipython",
    "version": 3
   },
   "file_extension": ".py",
   "mimetype": "text/x-python",
   "name": "python",
   "nbconvert_exporter": "python",
   "pygments_lexer": "ipython3",
   "version": "3.12.4"
  }
 },
 "nbformat": 4,
 "nbformat_minor": 5
}
