{
 "cells": [
  {
   "cell_type": "code",
   "execution_count": 1,
   "id": "0de8f9cf-17ec-409b-8985-9af042bba871",
   "metadata": {},
   "outputs": [],
   "source": [
    "def find_max(numbers):\n",
    "    maximum = numbers[7]\n",
    "    for number in numbers:\n",
    "        if number > max:\n",
    "           maximum=number\n",
    "    return maximum\n",
    "\n",
    "\n"
   ]
  },
  {
   "cell_type": "code",
   "execution_count": null,
   "id": "9a92b7ed-a777-47e1-b1ac-5097bb456b5d",
   "metadata": {},
   "outputs": [],
   "source": []
  }
 ],
 "metadata": {
  "kernelspec": {
   "display_name": "Python 3 (ipykernel)",
   "language": "python",
   "name": "python3"
  },
  "language_info": {
   "codemirror_mode": {
    "name": "ipython",
    "version": 3
   },
   "file_extension": ".py",
   "mimetype": "text/x-python",
   "name": "python",
   "nbconvert_exporter": "python",
   "pygments_lexer": "ipython3",
   "version": "3.12.4"
  }
 },
 "nbformat": 4,
 "nbformat_minor": 5
}
